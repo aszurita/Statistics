{
 "cells": [
  {
   "cell_type": "code",
   "execution_count": 1,
   "metadata": {},
   "outputs": [
    {
     "name": "stdout",
     "output_type": "stream",
     "text": [
      "Requirement already satisfied: skimpy in /Users/angelozurita/Repositorios_GitHub/espol_env/lib/python3.11/site-packages (0.0.14)\n",
      "Requirement already satisfied: Pygments<3.0.0,>=2.10.0 in /Users/angelozurita/Repositorios_GitHub/espol_env/lib/python3.11/site-packages (from skimpy) (2.15.1)\n",
      "Requirement already satisfied: click<9.0.0,>=8.1.6 in /Users/angelozurita/Repositorios_GitHub/espol_env/lib/python3.11/site-packages (from skimpy) (8.1.7)\n",
      "Requirement already satisfied: ipykernel<7.0.0,>=6.7.0 in /Users/angelozurita/Repositorios_GitHub/espol_env/lib/python3.11/site-packages (from skimpy) (6.22.0)\n",
      "Requirement already satisfied: numpy<2.0.0,>=1.22.2 in /Users/angelozurita/Repositorios_GitHub/espol_env/lib/python3.11/site-packages (from skimpy) (1.24.3)\n",
      "Requirement already satisfied: pandas<3.0.0,>=2.0.3 in /Users/angelozurita/Repositorios_GitHub/espol_env/lib/python3.11/site-packages (from skimpy) (2.2.2)\n",
      "Requirement already satisfied: polars<0.21,>=0.19 in /Users/angelozurita/Repositorios_GitHub/espol_env/lib/python3.11/site-packages (from skimpy) (0.20.21)\n",
      "Requirement already satisfied: pyarrow<16,>=13 in /Users/angelozurita/Repositorios_GitHub/espol_env/lib/python3.11/site-packages (from skimpy) (15.0.1)\n",
      "Requirement already satisfied: quartodoc<0.8.0,>=0.7.2 in /Users/angelozurita/Repositorios_GitHub/espol_env/lib/python3.11/site-packages (from skimpy) (0.7.2)\n",
      "Requirement already satisfied: rich<14.0,>=10.9 in /Users/angelozurita/Repositorios_GitHub/espol_env/lib/python3.11/site-packages (from skimpy) (13.7.1)\n",
      "Requirement already satisfied: typeguard==4.1.5 in /Users/angelozurita/Repositorios_GitHub/espol_env/lib/python3.11/site-packages (from skimpy) (4.1.5)\n",
      "Requirement already satisfied: typing-extensions>=4.7.0 in /Users/angelozurita/Repositorios_GitHub/espol_env/lib/python3.11/site-packages (from typeguard==4.1.5->skimpy) (4.9.0)\n",
      "Requirement already satisfied: appnope in /Users/angelozurita/Repositorios_GitHub/espol_env/lib/python3.11/site-packages (from ipykernel<7.0.0,>=6.7.0->skimpy) (0.1.3)\n",
      "Requirement already satisfied: comm>=0.1.1 in /Users/angelozurita/Repositorios_GitHub/espol_env/lib/python3.11/site-packages (from ipykernel<7.0.0,>=6.7.0->skimpy) (0.1.3)\n",
      "Requirement already satisfied: debugpy>=1.6.5 in /Users/angelozurita/Repositorios_GitHub/espol_env/lib/python3.11/site-packages (from ipykernel<7.0.0,>=6.7.0->skimpy) (1.6.7)\n",
      "Requirement already satisfied: ipython>=7.23.1 in /Users/angelozurita/Repositorios_GitHub/espol_env/lib/python3.11/site-packages (from ipykernel<7.0.0,>=6.7.0->skimpy) (8.13.1)\n",
      "Requirement already satisfied: jupyter-client>=6.1.12 in /Users/angelozurita/Repositorios_GitHub/espol_env/lib/python3.11/site-packages (from ipykernel<7.0.0,>=6.7.0->skimpy) (8.2.0)\n",
      "Requirement already satisfied: jupyter-core!=5.0.*,>=4.12 in /Users/angelozurita/Repositorios_GitHub/espol_env/lib/python3.11/site-packages (from ipykernel<7.0.0,>=6.7.0->skimpy) (5.3.0)\n",
      "Requirement already satisfied: matplotlib-inline>=0.1 in /Users/angelozurita/Repositorios_GitHub/espol_env/lib/python3.11/site-packages (from ipykernel<7.0.0,>=6.7.0->skimpy) (0.1.6)\n",
      "Requirement already satisfied: nest-asyncio in /Users/angelozurita/Repositorios_GitHub/espol_env/lib/python3.11/site-packages (from ipykernel<7.0.0,>=6.7.0->skimpy) (1.5.6)\n",
      "Requirement already satisfied: packaging in /Users/angelozurita/Repositorios_GitHub/espol_env/lib/python3.11/site-packages (from ipykernel<7.0.0,>=6.7.0->skimpy) (23.1)\n",
      "Requirement already satisfied: psutil in /Users/angelozurita/Repositorios_GitHub/espol_env/lib/python3.11/site-packages (from ipykernel<7.0.0,>=6.7.0->skimpy) (5.9.5)\n",
      "Requirement already satisfied: pyzmq>=20 in /Users/angelozurita/Repositorios_GitHub/espol_env/lib/python3.11/site-packages (from ipykernel<7.0.0,>=6.7.0->skimpy) (25.0.2)\n",
      "Requirement already satisfied: tornado>=6.1 in /Users/angelozurita/Repositorios_GitHub/espol_env/lib/python3.11/site-packages (from ipykernel<7.0.0,>=6.7.0->skimpy) (6.3.1)\n",
      "Requirement already satisfied: traitlets>=5.4.0 in /Users/angelozurita/Repositorios_GitHub/espol_env/lib/python3.11/site-packages (from ipykernel<7.0.0,>=6.7.0->skimpy) (5.9.0)\n",
      "Requirement already satisfied: python-dateutil>=2.8.2 in /Users/angelozurita/Repositorios_GitHub/espol_env/lib/python3.11/site-packages (from pandas<3.0.0,>=2.0.3->skimpy) (2.8.2)\n",
      "Requirement already satisfied: pytz>=2020.1 in /Users/angelozurita/Repositorios_GitHub/espol_env/lib/python3.11/site-packages (from pandas<3.0.0,>=2.0.3->skimpy) (2023.3)\n",
      "Requirement already satisfied: tzdata>=2022.7 in /Users/angelozurita/Repositorios_GitHub/espol_env/lib/python3.11/site-packages (from pandas<3.0.0,>=2.0.3->skimpy) (2023.3)\n",
      "Requirement already satisfied: griffe>=0.33 in /Users/angelozurita/Repositorios_GitHub/espol_env/lib/python3.11/site-packages (from quartodoc<0.8.0,>=0.7.2->skimpy) (0.42.2)\n",
      "Requirement already satisfied: sphobjinv>=2.3.1 in /Users/angelozurita/Repositorios_GitHub/espol_env/lib/python3.11/site-packages (from quartodoc<0.8.0,>=0.7.2->skimpy) (2.3.1)\n",
      "Requirement already satisfied: tabulate>=0.9.0 in /Users/angelozurita/Repositorios_GitHub/espol_env/lib/python3.11/site-packages (from quartodoc<0.8.0,>=0.7.2->skimpy) (0.9.0)\n",
      "Requirement already satisfied: importlib-metadata>=5.1.0 in /Users/angelozurita/Repositorios_GitHub/espol_env/lib/python3.11/site-packages (from quartodoc<0.8.0,>=0.7.2->skimpy) (6.11.0)\n",
      "Requirement already satisfied: importlib-resources>=5.10.2 in /Users/angelozurita/Repositorios_GitHub/espol_env/lib/python3.11/site-packages (from quartodoc<0.8.0,>=0.7.2->skimpy) (6.4.0)\n",
      "Requirement already satisfied: pydantic in /Users/angelozurita/Repositorios_GitHub/espol_env/lib/python3.11/site-packages (from quartodoc<0.8.0,>=0.7.2->skimpy) (2.4.2)\n",
      "Requirement already satisfied: pyyaml in /Users/angelozurita/Repositorios_GitHub/espol_env/lib/python3.11/site-packages (from quartodoc<0.8.0,>=0.7.2->skimpy) (6.0)\n",
      "Requirement already satisfied: watchdog>=3.0.0 in /Users/angelozurita/Repositorios_GitHub/espol_env/lib/python3.11/site-packages (from quartodoc<0.8.0,>=0.7.2->skimpy) (4.0.0)\n",
      "Requirement already satisfied: plum-dispatch>2.0.0 in /Users/angelozurita/Repositorios_GitHub/espol_env/lib/python3.11/site-packages (from quartodoc<0.8.0,>=0.7.2->skimpy) (2.3.3)\n",
      "Requirement already satisfied: markdown-it-py>=2.2.0 in /Users/angelozurita/Repositorios_GitHub/espol_env/lib/python3.11/site-packages (from rich<14.0,>=10.9->skimpy) (3.0.0)\n",
      "Requirement already satisfied: colorama>=0.4 in /Users/angelozurita/Repositorios_GitHub/espol_env/lib/python3.11/site-packages (from griffe>=0.33->quartodoc<0.8.0,>=0.7.2->skimpy) (0.4.6)\n",
      "Requirement already satisfied: zipp>=0.5 in /Users/angelozurita/Repositorios_GitHub/espol_env/lib/python3.11/site-packages (from importlib-metadata>=5.1.0->quartodoc<0.8.0,>=0.7.2->skimpy) (3.17.0)\n",
      "Requirement already satisfied: backcall in /Users/angelozurita/Repositorios_GitHub/espol_env/lib/python3.11/site-packages (from ipython>=7.23.1->ipykernel<7.0.0,>=6.7.0->skimpy) (0.2.0)\n",
      "Requirement already satisfied: decorator in /Users/angelozurita/Repositorios_GitHub/espol_env/lib/python3.11/site-packages (from ipython>=7.23.1->ipykernel<7.0.0,>=6.7.0->skimpy) (5.1.1)\n",
      "Requirement already satisfied: jedi>=0.16 in /Users/angelozurita/Repositorios_GitHub/espol_env/lib/python3.11/site-packages (from ipython>=7.23.1->ipykernel<7.0.0,>=6.7.0->skimpy) (0.18.2)\n",
      "Requirement already satisfied: pickleshare in /Users/angelozurita/Repositorios_GitHub/espol_env/lib/python3.11/site-packages (from ipython>=7.23.1->ipykernel<7.0.0,>=6.7.0->skimpy) (0.7.5)\n",
      "Requirement already satisfied: prompt-toolkit!=3.0.37,<3.1.0,>=3.0.30 in /Users/angelozurita/Repositorios_GitHub/espol_env/lib/python3.11/site-packages (from ipython>=7.23.1->ipykernel<7.0.0,>=6.7.0->skimpy) (3.0.38)\n",
      "Requirement already satisfied: stack-data in /Users/angelozurita/Repositorios_GitHub/espol_env/lib/python3.11/site-packages (from ipython>=7.23.1->ipykernel<7.0.0,>=6.7.0->skimpy) (0.6.2)\n",
      "Requirement already satisfied: pexpect>4.3 in /Users/angelozurita/Repositorios_GitHub/espol_env/lib/python3.11/site-packages (from ipython>=7.23.1->ipykernel<7.0.0,>=6.7.0->skimpy) (4.8.0)\n",
      "Requirement already satisfied: platformdirs>=2.5 in /Users/angelozurita/Repositorios_GitHub/espol_env/lib/python3.11/site-packages (from jupyter-core!=5.0.*,>=4.12->ipykernel<7.0.0,>=6.7.0->skimpy) (3.5.0)\n",
      "Requirement already satisfied: mdurl~=0.1 in /Users/angelozurita/Repositorios_GitHub/espol_env/lib/python3.11/site-packages (from markdown-it-py>=2.2.0->rich<14.0,>=10.9->skimpy) (0.1.2)\n",
      "Requirement already satisfied: beartype>=0.16.2 in /Users/angelozurita/Repositorios_GitHub/espol_env/lib/python3.11/site-packages (from plum-dispatch>2.0.0->quartodoc<0.8.0,>=0.7.2->skimpy) (0.18.2)\n",
      "Requirement already satisfied: six>=1.5 in /Users/angelozurita/Repositorios_GitHub/espol_env/lib/python3.11/site-packages (from python-dateutil>=2.8.2->pandas<3.0.0,>=2.0.3->skimpy) (1.16.0)\n",
      "Requirement already satisfied: attrs>=19.2 in /Users/angelozurita/Repositorios_GitHub/espol_env/lib/python3.11/site-packages (from sphobjinv>=2.3.1->quartodoc<0.8.0,>=0.7.2->skimpy) (23.1.0)\n",
      "Requirement already satisfied: certifi in /Users/angelozurita/Repositorios_GitHub/espol_env/lib/python3.11/site-packages (from sphobjinv>=2.3.1->quartodoc<0.8.0,>=0.7.2->skimpy) (2023.5.7)\n",
      "Requirement already satisfied: jsonschema>=3.0 in /Users/angelozurita/Repositorios_GitHub/espol_env/lib/python3.11/site-packages (from sphobjinv>=2.3.1->quartodoc<0.8.0,>=0.7.2->skimpy) (4.17.3)\n",
      "Requirement already satisfied: annotated-types>=0.4.0 in /Users/angelozurita/Repositorios_GitHub/espol_env/lib/python3.11/site-packages (from pydantic->quartodoc<0.8.0,>=0.7.2->skimpy) (0.6.0)\n",
      "Requirement already satisfied: pydantic-core==2.10.1 in /Users/angelozurita/Repositorios_GitHub/espol_env/lib/python3.11/site-packages (from pydantic->quartodoc<0.8.0,>=0.7.2->skimpy) (2.10.1)\n",
      "Requirement already satisfied: parso<0.9.0,>=0.8.0 in /Users/angelozurita/Repositorios_GitHub/espol_env/lib/python3.11/site-packages (from jedi>=0.16->ipython>=7.23.1->ipykernel<7.0.0,>=6.7.0->skimpy) (0.8.3)\n",
      "Requirement already satisfied: pyrsistent!=0.17.0,!=0.17.1,!=0.17.2,>=0.14.0 in /Users/angelozurita/Repositorios_GitHub/espol_env/lib/python3.11/site-packages (from jsonschema>=3.0->sphobjinv>=2.3.1->quartodoc<0.8.0,>=0.7.2->skimpy) (0.19.3)\n",
      "Requirement already satisfied: ptyprocess>=0.5 in /Users/angelozurita/Repositorios_GitHub/espol_env/lib/python3.11/site-packages (from pexpect>4.3->ipython>=7.23.1->ipykernel<7.0.0,>=6.7.0->skimpy) (0.7.0)\n",
      "Requirement already satisfied: wcwidth in /Users/angelozurita/Repositorios_GitHub/espol_env/lib/python3.11/site-packages (from prompt-toolkit!=3.0.37,<3.1.0,>=3.0.30->ipython>=7.23.1->ipykernel<7.0.0,>=6.7.0->skimpy) (0.2.6)\n",
      "Requirement already satisfied: executing>=1.2.0 in /Users/angelozurita/Repositorios_GitHub/espol_env/lib/python3.11/site-packages (from stack-data->ipython>=7.23.1->ipykernel<7.0.0,>=6.7.0->skimpy) (1.2.0)\n",
      "Requirement already satisfied: asttokens>=2.1.0 in /Users/angelozurita/Repositorios_GitHub/espol_env/lib/python3.11/site-packages (from stack-data->ipython>=7.23.1->ipykernel<7.0.0,>=6.7.0->skimpy) (2.2.1)\n",
      "Requirement already satisfied: pure-eval in /Users/angelozurita/Repositorios_GitHub/espol_env/lib/python3.11/site-packages (from stack-data->ipython>=7.23.1->ipykernel<7.0.0,>=6.7.0->skimpy) (0.2.2)\n"
     ]
    }
   ],
   "source": [
    "import pandas as pd\n",
    "! pip install skimpy\n",
    "from skimpy import skim"
   ]
  },
  {
   "cell_type": "code",
   "execution_count": 2,
   "metadata": {},
   "outputs": [],
   "source": [
    "df_salaries = pd.read_csv(\"../ds_salaries_US.csv\")"
   ]
  },
  {
   "cell_type": "code",
   "execution_count": 8,
   "metadata": {},
   "outputs": [],
   "source": [
    "df_salaries.drop(\"Unnamed: 0\",axis=1,inplace=True)"
   ]
  },
  {
   "cell_type": "code",
   "execution_count": 9,
   "metadata": {},
   "outputs": [
    {
     "data": {
      "text/html": [
       "<pre style=\"white-space:pre;overflow-x:auto;line-height:normal;font-family:Menlo,'DejaVu Sans Mono',consolas,'Courier New',monospace\">╭──────────────────────────────────────────────── skimpy summary ─────────────────────────────────────────────────╮\n",
       "│ <span style=\"font-style: italic\">         Data Summary         </span> <span style=\"font-style: italic\">      Data Types       </span>                                                          │\n",
       "│ ┏━━━━━━━━━━━━━━━━━━━┳━━━━━━━━┓ ┏━━━━━━━━━━━━━┳━━━━━━━┓                                                          │\n",
       "│ ┃<span style=\"color: #008080; text-decoration-color: #008080; font-weight: bold\"> dataframe         </span>┃<span style=\"color: #008080; text-decoration-color: #008080; font-weight: bold\"> Values </span>┃ ┃<span style=\"color: #008080; text-decoration-color: #008080; font-weight: bold\"> Column Type </span>┃<span style=\"color: #008080; text-decoration-color: #008080; font-weight: bold\"> Count </span>┃                                                          │\n",
       "│ ┡━━━━━━━━━━━━━━━━━━━╇━━━━━━━━┩ ┡━━━━━━━━━━━━━╇━━━━━━━┩                                                          │\n",
       "│ │ Number of rows    │ 3040   │ │ string      │ 8     │                                                          │\n",
       "│ │ Number of columns │ 12     │ │ int64       │ 4     │                                                          │\n",
       "│ └───────────────────┴────────┘ └─────────────┴───────┘                                                          │\n",
       "│ <span style=\"font-style: italic\">                                                    number                                                    </span>  │\n",
       "│ ┏━━━━━━━━━━━━━━━━━┳━━━━━┳━━━━━━━┳━━━━━━━━━┳━━━━━━━━━┳━━━━━━━━┳━━━━━━━━━┳━━━━━━━━┳━━━━━━━━┳━━━━━━━━━━┳━━━━━━━━┓  │\n",
       "│ ┃<span style=\"font-weight: bold\"> column_name     </span>┃<span style=\"font-weight: bold\"> NA  </span>┃<span style=\"font-weight: bold\"> NA %  </span>┃<span style=\"font-weight: bold\"> mean    </span>┃<span style=\"font-weight: bold\"> sd      </span>┃<span style=\"font-weight: bold\"> p0     </span>┃<span style=\"font-weight: bold\"> p25     </span>┃<span style=\"font-weight: bold\"> p50    </span>┃<span style=\"font-weight: bold\"> p75    </span>┃<span style=\"font-weight: bold\"> p100     </span>┃<span style=\"font-weight: bold\"> hist   </span>┃  │\n",
       "│ ┡━━━━━━━━━━━━━━━━━╇━━━━━╇━━━━━━━╇━━━━━━━━━╇━━━━━━━━━╇━━━━━━━━╇━━━━━━━━━╇━━━━━━━━╇━━━━━━━━╇━━━━━━━━━━╇━━━━━━━━┩  │\n",
       "│ │ <span style=\"color: #af87ff; text-decoration-color: #af87ff\">work_year      </span> │ <span style=\"color: #008080; text-decoration-color: #008080\">  0</span> │ <span style=\"color: #008080; text-decoration-color: #008080\">    0</span> │ <span style=\"color: #008080; text-decoration-color: #008080\">   2000</span> │ <span style=\"color: #008080; text-decoration-color: #008080\">   0.61</span> │ <span style=\"color: #008080; text-decoration-color: #008080\">  2000</span> │ <span style=\"color: #008080; text-decoration-color: #008080\">   2000</span> │ <span style=\"color: #008080; text-decoration-color: #008080\">  2000</span> │ <span style=\"color: #008080; text-decoration-color: #008080\">  2000</span> │ <span style=\"color: #008080; text-decoration-color: #008080\">    2000</span> │ <span style=\"color: #008000; text-decoration-color: #008000\">  ▁ ▇▇</span> │  │\n",
       "│ │ <span style=\"color: #af87ff; text-decoration-color: #af87ff\">salary         </span> │ <span style=\"color: #008080; text-decoration-color: #008080\">  0</span> │ <span style=\"color: #008080; text-decoration-color: #008080\">    0</span> │ <span style=\"color: #008080; text-decoration-color: #008080\"> 160000</span> │ <span style=\"color: #008080; text-decoration-color: #008080\"> 220000</span> │ <span style=\"color: #008080; text-decoration-color: #008080\"> 12000</span> │ <span style=\"color: #008080; text-decoration-color: #008080\"> 110000</span> │ <span style=\"color: #008080; text-decoration-color: #008080\">140000</span> │ <span style=\"color: #008080; text-decoration-color: #008080\">180000</span> │ <span style=\"color: #008080; text-decoration-color: #008080\">11000000</span> │ <span style=\"color: #008000; text-decoration-color: #008000\">  ▇   </span> │  │\n",
       "│ │ <span style=\"color: #af87ff; text-decoration-color: #af87ff\">salary_in_usd  </span> │ <span style=\"color: #008080; text-decoration-color: #008080\">  0</span> │ <span style=\"color: #008080; text-decoration-color: #008080\">    0</span> │ <span style=\"color: #008080; text-decoration-color: #008080\"> 150000</span> │ <span style=\"color: #008080; text-decoration-color: #008080\">  56000</span> │ <span style=\"color: #008080; text-decoration-color: #008080\">  5700</span> │ <span style=\"color: #008080; text-decoration-color: #008080\"> 110000</span> │ <span style=\"color: #008080; text-decoration-color: #008080\">140000</span> │ <span style=\"color: #008080; text-decoration-color: #008080\">180000</span> │ <span style=\"color: #008080; text-decoration-color: #008080\">  450000</span> │ <span style=\"color: #008000; text-decoration-color: #008000\"> ▁▇▅▁ </span> │  │\n",
       "│ │ <span style=\"color: #af87ff; text-decoration-color: #af87ff\">remote_ratio   </span> │ <span style=\"color: #008080; text-decoration-color: #008080\">  0</span> │ <span style=\"color: #008080; text-decoration-color: #008080\">    0</span> │ <span style=\"color: #008080; text-decoration-color: #008080\">     44</span> │ <span style=\"color: #008080; text-decoration-color: #008080\">     49</span> │ <span style=\"color: #008080; text-decoration-color: #008080\">     0</span> │ <span style=\"color: #008080; text-decoration-color: #008080\">      0</span> │ <span style=\"color: #008080; text-decoration-color: #008080\">     0</span> │ <span style=\"color: #008080; text-decoration-color: #008080\">   100</span> │ <span style=\"color: #008080; text-decoration-color: #008080\">     100</span> │ <span style=\"color: #008000; text-decoration-color: #008000\">▇    ▆</span> │  │\n",
       "│ └─────────────────┴─────┴───────┴─────────┴─────────┴────────┴─────────┴────────┴────────┴──────────┴────────┘  │\n",
       "│ <span style=\"font-style: italic\">                                                    string                                                    </span>  │\n",
       "│ ┏━━━━━━━━━━━━━━━━━━━━━━━━━━━━━━━━━━━━┳━━━━━━━━┳━━━━━━━━━━━┳━━━━━━━━━━━━━━━━━━━━━━━━━━━┳━━━━━━━━━━━━━━━━━━━━━━┓  │\n",
       "│ ┃<span style=\"font-weight: bold\"> column_name                        </span>┃<span style=\"font-weight: bold\"> NA     </span>┃<span style=\"font-weight: bold\"> NA %      </span>┃<span style=\"font-weight: bold\"> words per row             </span>┃<span style=\"font-weight: bold\"> total words          </span>┃  │\n",
       "│ ┡━━━━━━━━━━━━━━━━━━━━━━━━━━━━━━━━━━━━╇━━━━━━━━╇━━━━━━━━━━━╇━━━━━━━━━━━━━━━━━━━━━━━━━━━╇━━━━━━━━━━━━━━━━━━━━━━┩  │\n",
       "│ │ <span style=\"color: #af87ff; text-decoration-color: #af87ff\">experience_level                  </span> │ <span style=\"color: #008080; text-decoration-color: #008080\">     0</span> │ <span style=\"color: #008080; text-decoration-color: #008080\">        0</span> │ <span style=\"color: #008080; text-decoration-color: #008080\">                        1</span> │ <span style=\"color: #008080; text-decoration-color: #008080\">                3040</span> │  │\n",
       "│ │ <span style=\"color: #af87ff; text-decoration-color: #af87ff\">employment_type                   </span> │ <span style=\"color: #008080; text-decoration-color: #008080\">     0</span> │ <span style=\"color: #008080; text-decoration-color: #008080\">        0</span> │ <span style=\"color: #008080; text-decoration-color: #008080\">                        1</span> │ <span style=\"color: #008080; text-decoration-color: #008080\">                3040</span> │  │\n",
       "│ │ <span style=\"color: #af87ff; text-decoration-color: #af87ff\">job_title                         </span> │ <span style=\"color: #008080; text-decoration-color: #008080\">     0</span> │ <span style=\"color: #008080; text-decoration-color: #008080\">        0</span> │ <span style=\"color: #008080; text-decoration-color: #008080\">                      2.2</span> │ <span style=\"color: #008080; text-decoration-color: #008080\">                6598</span> │  │\n",
       "│ │ <span style=\"color: #af87ff; text-decoration-color: #af87ff\">salary_currency                   </span> │ <span style=\"color: #008080; text-decoration-color: #008080\">     0</span> │ <span style=\"color: #008080; text-decoration-color: #008080\">        0</span> │ <span style=\"color: #008080; text-decoration-color: #008080\">                        1</span> │ <span style=\"color: #008080; text-decoration-color: #008080\">                3040</span> │  │\n",
       "│ │ <span style=\"color: #af87ff; text-decoration-color: #af87ff\">employee_residence                </span> │ <span style=\"color: #008080; text-decoration-color: #008080\">     0</span> │ <span style=\"color: #008080; text-decoration-color: #008080\">        0</span> │ <span style=\"color: #008080; text-decoration-color: #008080\">                        1</span> │ <span style=\"color: #008080; text-decoration-color: #008080\">                3040</span> │  │\n",
       "│ │ <span style=\"color: #af87ff; text-decoration-color: #af87ff\">company_location                  </span> │ <span style=\"color: #008080; text-decoration-color: #008080\">     0</span> │ <span style=\"color: #008080; text-decoration-color: #008080\">        0</span> │ <span style=\"color: #008080; text-decoration-color: #008080\">                        1</span> │ <span style=\"color: #008080; text-decoration-color: #008080\">                3040</span> │  │\n",
       "│ │ <span style=\"color: #af87ff; text-decoration-color: #af87ff\">company_size                      </span> │ <span style=\"color: #008080; text-decoration-color: #008080\">     0</span> │ <span style=\"color: #008080; text-decoration-color: #008080\">        0</span> │ <span style=\"color: #008080; text-decoration-color: #008080\">                        1</span> │ <span style=\"color: #008080; text-decoration-color: #008080\">                3040</span> │  │\n",
       "│ │ <span style=\"color: #af87ff; text-decoration-color: #af87ff\">job_category                      </span> │ <span style=\"color: #008080; text-decoration-color: #008080\">     0</span> │ <span style=\"color: #008080; text-decoration-color: #008080\">        0</span> │ <span style=\"color: #008080; text-decoration-color: #008080\">                        2</span> │ <span style=\"color: #008080; text-decoration-color: #008080\">                6024</span> │  │\n",
       "│ └────────────────────────────────────┴────────┴───────────┴───────────────────────────┴──────────────────────┘  │\n",
       "╰────────────────────────────────────────────────────── End ──────────────────────────────────────────────────────╯\n",
       "</pre>\n"
      ],
      "text/plain": [
       "╭──────────────────────────────────────────────── skimpy summary ─────────────────────────────────────────────────╮\n",
       "│ \u001b[3m         Data Summary         \u001b[0m \u001b[3m      Data Types       \u001b[0m                                                          │\n",
       "│ ┏━━━━━━━━━━━━━━━━━━━┳━━━━━━━━┓ ┏━━━━━━━━━━━━━┳━━━━━━━┓                                                          │\n",
       "│ ┃\u001b[1;36m \u001b[0m\u001b[1;36mdataframe        \u001b[0m\u001b[1;36m \u001b[0m┃\u001b[1;36m \u001b[0m\u001b[1;36mValues\u001b[0m\u001b[1;36m \u001b[0m┃ ┃\u001b[1;36m \u001b[0m\u001b[1;36mColumn Type\u001b[0m\u001b[1;36m \u001b[0m┃\u001b[1;36m \u001b[0m\u001b[1;36mCount\u001b[0m\u001b[1;36m \u001b[0m┃                                                          │\n",
       "│ ┡━━━━━━━━━━━━━━━━━━━╇━━━━━━━━┩ ┡━━━━━━━━━━━━━╇━━━━━━━┩                                                          │\n",
       "│ │ Number of rows    │ 3040   │ │ string      │ 8     │                                                          │\n",
       "│ │ Number of columns │ 12     │ │ int64       │ 4     │                                                          │\n",
       "│ └───────────────────┴────────┘ └─────────────┴───────┘                                                          │\n",
       "│ \u001b[3m                                                    number                                                    \u001b[0m  │\n",
       "│ ┏━━━━━━━━━━━━━━━━━┳━━━━━┳━━━━━━━┳━━━━━━━━━┳━━━━━━━━━┳━━━━━━━━┳━━━━━━━━━┳━━━━━━━━┳━━━━━━━━┳━━━━━━━━━━┳━━━━━━━━┓  │\n",
       "│ ┃\u001b[1m \u001b[0m\u001b[1mcolumn_name    \u001b[0m\u001b[1m \u001b[0m┃\u001b[1m \u001b[0m\u001b[1mNA \u001b[0m\u001b[1m \u001b[0m┃\u001b[1m \u001b[0m\u001b[1mNA % \u001b[0m\u001b[1m \u001b[0m┃\u001b[1m \u001b[0m\u001b[1mmean   \u001b[0m\u001b[1m \u001b[0m┃\u001b[1m \u001b[0m\u001b[1msd     \u001b[0m\u001b[1m \u001b[0m┃\u001b[1m \u001b[0m\u001b[1mp0    \u001b[0m\u001b[1m \u001b[0m┃\u001b[1m \u001b[0m\u001b[1mp25    \u001b[0m\u001b[1m \u001b[0m┃\u001b[1m \u001b[0m\u001b[1mp50   \u001b[0m\u001b[1m \u001b[0m┃\u001b[1m \u001b[0m\u001b[1mp75   \u001b[0m\u001b[1m \u001b[0m┃\u001b[1m \u001b[0m\u001b[1mp100    \u001b[0m\u001b[1m \u001b[0m┃\u001b[1m \u001b[0m\u001b[1mhist  \u001b[0m\u001b[1m \u001b[0m┃  │\n",
       "│ ┡━━━━━━━━━━━━━━━━━╇━━━━━╇━━━━━━━╇━━━━━━━━━╇━━━━━━━━━╇━━━━━━━━╇━━━━━━━━━╇━━━━━━━━╇━━━━━━━━╇━━━━━━━━━━╇━━━━━━━━┩  │\n",
       "│ │ \u001b[38;5;141mwork_year      \u001b[0m │ \u001b[36m  0\u001b[0m │ \u001b[36m    0\u001b[0m │ \u001b[36m   2000\u001b[0m │ \u001b[36m   0.61\u001b[0m │ \u001b[36m  2000\u001b[0m │ \u001b[36m   2000\u001b[0m │ \u001b[36m  2000\u001b[0m │ \u001b[36m  2000\u001b[0m │ \u001b[36m    2000\u001b[0m │ \u001b[32m  ▁ ▇▇\u001b[0m │  │\n",
       "│ │ \u001b[38;5;141msalary         \u001b[0m │ \u001b[36m  0\u001b[0m │ \u001b[36m    0\u001b[0m │ \u001b[36m 160000\u001b[0m │ \u001b[36m 220000\u001b[0m │ \u001b[36m 12000\u001b[0m │ \u001b[36m 110000\u001b[0m │ \u001b[36m140000\u001b[0m │ \u001b[36m180000\u001b[0m │ \u001b[36m11000000\u001b[0m │ \u001b[32m  ▇   \u001b[0m │  │\n",
       "│ │ \u001b[38;5;141msalary_in_usd  \u001b[0m │ \u001b[36m  0\u001b[0m │ \u001b[36m    0\u001b[0m │ \u001b[36m 150000\u001b[0m │ \u001b[36m  56000\u001b[0m │ \u001b[36m  5700\u001b[0m │ \u001b[36m 110000\u001b[0m │ \u001b[36m140000\u001b[0m │ \u001b[36m180000\u001b[0m │ \u001b[36m  450000\u001b[0m │ \u001b[32m ▁▇▅▁ \u001b[0m │  │\n",
       "│ │ \u001b[38;5;141mremote_ratio   \u001b[0m │ \u001b[36m  0\u001b[0m │ \u001b[36m    0\u001b[0m │ \u001b[36m     44\u001b[0m │ \u001b[36m     49\u001b[0m │ \u001b[36m     0\u001b[0m │ \u001b[36m      0\u001b[0m │ \u001b[36m     0\u001b[0m │ \u001b[36m   100\u001b[0m │ \u001b[36m     100\u001b[0m │ \u001b[32m▇    ▆\u001b[0m │  │\n",
       "│ └─────────────────┴─────┴───────┴─────────┴─────────┴────────┴─────────┴────────┴────────┴──────────┴────────┘  │\n",
       "│ \u001b[3m                                                    string                                                    \u001b[0m  │\n",
       "│ ┏━━━━━━━━━━━━━━━━━━━━━━━━━━━━━━━━━━━━┳━━━━━━━━┳━━━━━━━━━━━┳━━━━━━━━━━━━━━━━━━━━━━━━━━━┳━━━━━━━━━━━━━━━━━━━━━━┓  │\n",
       "│ ┃\u001b[1m \u001b[0m\u001b[1mcolumn_name                       \u001b[0m\u001b[1m \u001b[0m┃\u001b[1m \u001b[0m\u001b[1mNA    \u001b[0m\u001b[1m \u001b[0m┃\u001b[1m \u001b[0m\u001b[1mNA %     \u001b[0m\u001b[1m \u001b[0m┃\u001b[1m \u001b[0m\u001b[1mwords per row            \u001b[0m\u001b[1m \u001b[0m┃\u001b[1m \u001b[0m\u001b[1mtotal words         \u001b[0m\u001b[1m \u001b[0m┃  │\n",
       "│ ┡━━━━━━━━━━━━━━━━━━━━━━━━━━━━━━━━━━━━╇━━━━━━━━╇━━━━━━━━━━━╇━━━━━━━━━━━━━━━━━━━━━━━━━━━╇━━━━━━━━━━━━━━━━━━━━━━┩  │\n",
       "│ │ \u001b[38;5;141mexperience_level                  \u001b[0m │ \u001b[36m     0\u001b[0m │ \u001b[36m        0\u001b[0m │ \u001b[36m                        1\u001b[0m │ \u001b[36m                3040\u001b[0m │  │\n",
       "│ │ \u001b[38;5;141memployment_type                   \u001b[0m │ \u001b[36m     0\u001b[0m │ \u001b[36m        0\u001b[0m │ \u001b[36m                        1\u001b[0m │ \u001b[36m                3040\u001b[0m │  │\n",
       "│ │ \u001b[38;5;141mjob_title                         \u001b[0m │ \u001b[36m     0\u001b[0m │ \u001b[36m        0\u001b[0m │ \u001b[36m                      2.2\u001b[0m │ \u001b[36m                6598\u001b[0m │  │\n",
       "│ │ \u001b[38;5;141msalary_currency                   \u001b[0m │ \u001b[36m     0\u001b[0m │ \u001b[36m        0\u001b[0m │ \u001b[36m                        1\u001b[0m │ \u001b[36m                3040\u001b[0m │  │\n",
       "│ │ \u001b[38;5;141memployee_residence                \u001b[0m │ \u001b[36m     0\u001b[0m │ \u001b[36m        0\u001b[0m │ \u001b[36m                        1\u001b[0m │ \u001b[36m                3040\u001b[0m │  │\n",
       "│ │ \u001b[38;5;141mcompany_location                  \u001b[0m │ \u001b[36m     0\u001b[0m │ \u001b[36m        0\u001b[0m │ \u001b[36m                        1\u001b[0m │ \u001b[36m                3040\u001b[0m │  │\n",
       "│ │ \u001b[38;5;141mcompany_size                      \u001b[0m │ \u001b[36m     0\u001b[0m │ \u001b[36m        0\u001b[0m │ \u001b[36m                        1\u001b[0m │ \u001b[36m                3040\u001b[0m │  │\n",
       "│ │ \u001b[38;5;141mjob_category                      \u001b[0m │ \u001b[36m     0\u001b[0m │ \u001b[36m        0\u001b[0m │ \u001b[36m                        2\u001b[0m │ \u001b[36m                6024\u001b[0m │  │\n",
       "│ └────────────────────────────────────┴────────┴───────────┴───────────────────────────┴──────────────────────┘  │\n",
       "╰────────────────────────────────────────────────────── End ──────────────────────────────────────────────────────╯\n"
      ]
     },
     "metadata": {},
     "output_type": "display_data"
    }
   ],
   "source": [
    "skim(df_salaries)"
   ]
  },
  {
   "cell_type": "code",
   "execution_count": 13,
   "metadata": {},
   "outputs": [
    {
     "name": "stdout",
     "output_type": "stream",
     "text": [
      "Requirement already satisfied: sweetviz in /Users/angelozurita/Repositorios_GitHub/espol_env/lib/python3.11/site-packages (2.3.1)\n",
      "Requirement already satisfied: pandas!=1.0.0,!=1.0.1,!=1.0.2,>=0.25.3 in /Users/angelozurita/Repositorios_GitHub/espol_env/lib/python3.11/site-packages (from sweetviz) (2.2.2)\n",
      "Requirement already satisfied: numpy>=1.16.0 in /Users/angelozurita/Repositorios_GitHub/espol_env/lib/python3.11/site-packages (from sweetviz) (1.24.3)\n",
      "Requirement already satisfied: matplotlib>=3.1.3 in /Users/angelozurita/Repositorios_GitHub/espol_env/lib/python3.11/site-packages (from sweetviz) (3.7.1)\n",
      "Requirement already satisfied: tqdm>=4.43.0 in /Users/angelozurita/Repositorios_GitHub/espol_env/lib/python3.11/site-packages (from sweetviz) (4.66.1)\n",
      "Requirement already satisfied: scipy>=1.3.2 in /Users/angelozurita/Repositorios_GitHub/espol_env/lib/python3.11/site-packages (from sweetviz) (1.11.2)\n",
      "Requirement already satisfied: jinja2>=2.11.1 in /Users/angelozurita/Repositorios_GitHub/espol_env/lib/python3.11/site-packages (from sweetviz) (3.1.2)\n",
      "Requirement already satisfied: importlib-resources>=1.2.0 in /Users/angelozurita/Repositorios_GitHub/espol_env/lib/python3.11/site-packages (from sweetviz) (6.4.0)\n",
      "Requirement already satisfied: MarkupSafe>=2.0 in /Users/angelozurita/Repositorios_GitHub/espol_env/lib/python3.11/site-packages (from jinja2>=2.11.1->sweetviz) (2.1.2)\n",
      "Requirement already satisfied: contourpy>=1.0.1 in /Users/angelozurita/Repositorios_GitHub/espol_env/lib/python3.11/site-packages (from matplotlib>=3.1.3->sweetviz) (1.0.7)\n",
      "Requirement already satisfied: cycler>=0.10 in /Users/angelozurita/Repositorios_GitHub/espol_env/lib/python3.11/site-packages (from matplotlib>=3.1.3->sweetviz) (0.11.0)\n",
      "Requirement already satisfied: fonttools>=4.22.0 in /Users/angelozurita/Repositorios_GitHub/espol_env/lib/python3.11/site-packages (from matplotlib>=3.1.3->sweetviz) (4.39.3)\n",
      "Requirement already satisfied: kiwisolver>=1.0.1 in /Users/angelozurita/Repositorios_GitHub/espol_env/lib/python3.11/site-packages (from matplotlib>=3.1.3->sweetviz) (1.4.4)\n",
      "Requirement already satisfied: packaging>=20.0 in /Users/angelozurita/Repositorios_GitHub/espol_env/lib/python3.11/site-packages (from matplotlib>=3.1.3->sweetviz) (23.1)\n",
      "Requirement already satisfied: pillow>=6.2.0 in /Users/angelozurita/Repositorios_GitHub/espol_env/lib/python3.11/site-packages (from matplotlib>=3.1.3->sweetviz) (9.5.0)\n",
      "Requirement already satisfied: pyparsing>=2.3.1 in /Users/angelozurita/Repositorios_GitHub/espol_env/lib/python3.11/site-packages (from matplotlib>=3.1.3->sweetviz) (3.0.9)\n",
      "Requirement already satisfied: python-dateutil>=2.7 in /Users/angelozurita/Repositorios_GitHub/espol_env/lib/python3.11/site-packages (from matplotlib>=3.1.3->sweetviz) (2.8.2)\n",
      "Requirement already satisfied: pytz>=2020.1 in /Users/angelozurita/Repositorios_GitHub/espol_env/lib/python3.11/site-packages (from pandas!=1.0.0,!=1.0.1,!=1.0.2,>=0.25.3->sweetviz) (2023.3)\n",
      "Requirement already satisfied: tzdata>=2022.7 in /Users/angelozurita/Repositorios_GitHub/espol_env/lib/python3.11/site-packages (from pandas!=1.0.0,!=1.0.1,!=1.0.2,>=0.25.3->sweetviz) (2023.3)\n",
      "Requirement already satisfied: six>=1.5 in /Users/angelozurita/Repositorios_GitHub/espol_env/lib/python3.11/site-packages (from python-dateutil>=2.7->matplotlib>=3.1.3->sweetviz) (1.16.0)\n"
     ]
    },
    {
     "data": {
      "application/vnd.jupyter.widget-view+json": {
       "model_id": "f86842d592b2468ea336c20f644a2676",
       "version_major": 2,
       "version_minor": 0
      },
      "text/plain": [
       "                                             |          | [  0%]   00:00 -> (? left)"
      ]
     },
     "metadata": {},
     "output_type": "display_data"
    },
    {
     "name": "stdout",
     "output_type": "stream",
     "text": [
      "Report SWEETVIZ_REPORT.html was generated! NOTEBOOK/COLAB USERS: the web browser MAY not pop up, regardless, the report IS saved in your notebook/colab files.\n"
     ]
    }
   ],
   "source": [
    "! pip install sweetviz\n",
    "import sweetviz as sv\n",
    "report = sv.analyze(df_salaries)\n",
    "report.show_html()"
   ]
  }
 ],
 "metadata": {
  "kernelspec": {
   "display_name": "espol_env",
   "language": "python",
   "name": "python3"
  },
  "language_info": {
   "codemirror_mode": {
    "name": "ipython",
    "version": 3
   },
   "file_extension": ".py",
   "mimetype": "text/x-python",
   "name": "python",
   "nbconvert_exporter": "python",
   "pygments_lexer": "ipython3",
   "version": "3.11.3"
  }
 },
 "nbformat": 4,
 "nbformat_minor": 2
}
